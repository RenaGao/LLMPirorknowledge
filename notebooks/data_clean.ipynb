{
 "cells": [
  {
   "cell_type": "code",
   "execution_count": 1,
   "metadata": {},
   "outputs": [],
   "source": [
    "import json\n",
    "import os \n",
    "def remove_outer_brackets(json_str, filename):\n",
    "    data = json.loads(json_str)\n",
    "    if isinstance(data, list) and len(data) == 1 and isinstance(data[0], list):\n",
    "        data = data[0]\n",
    "        print(f\"Removed outer brackets from json string - {filename}\")\n",
    "    return json.dumps(data, indent=4, ensure_ascii=False)\n",
    "\n",
    "\n",
    "MODEL_NAME = \"ICNALE\"\n",
    "\n",
    "annotations_path = f\"../annotations/{MODEL_NAME}_output\"\n",
    "for root, folders, files in os.walk(annotations_path):\n",
    "    folder_list = folders\n",
    "    break"
   ]
  },
  {
   "cell_type": "code",
   "execution_count": 2,
   "metadata": {},
   "outputs": [
    {
     "name": "stdout",
     "output_type": "stream",
     "text": [
      "Processing LLAMA 70B_generation_modal_verbs_expressions\n",
      "Processing LLAMA 70B_generation_noun_verb_collocation\n",
      "Processing LLAMA 70B_generation_numbers_agreement\n",
      "Processing LLAMA 70B_generation_quantifiers_numerals\n",
      "Processing LLAMA 70B_generation_reference_word\n",
      "Processing LLAMA 70B_generation_speech_acts\n",
      "Processing LLAMA 70B_generation_subject_verb_agreement\n",
      "Processing LLAMA 70B_generation_tense_agreement\n"
     ]
    }
   ],
   "source": [
    "for folder in folder_list:\n",
    "    print(f\"Processing {folder}\")\n",
    "    for root, folders, _ in os.walk(f\"{annotations_path}/{folder}\"):\n",
    "        for language_folder in folders:\n",
    "            for _, _, files in os.walk(f\"{annotations_path}/{folder}/{language_folder}\"):\n",
    "                for file in files:\n",
    "                    if file.endswith(\".json\"):\n",
    "                        with open(f\"{annotations_path}/{folder}/{language_folder}/{file}\", \"r\") as f:\n",
    "                            data = f.read()\n",
    "                            data = remove_outer_brackets(data, file)\n",
    "                        with open(f\"{annotations_path}/{folder}/{language_folder}/{file}\", \"w\") as f:\n",
    "                            f.write(data)"
   ]
  }
 ],
 "metadata": {
  "kernelspec": {
   "display_name": "multimodal",
   "language": "python",
   "name": "python3"
  },
  "language_info": {
   "codemirror_mode": {
    "name": "ipython",
    "version": 3
   },
   "file_extension": ".py",
   "mimetype": "text/x-python",
   "name": "python",
   "nbconvert_exporter": "python",
   "pygments_lexer": "ipython3",
   "version": "3.12.2"
  }
 },
 "nbformat": 4,
 "nbformat_minor": 2
}
