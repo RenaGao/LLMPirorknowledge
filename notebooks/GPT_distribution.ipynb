{
 "cells": [
  {
   "cell_type": "code",
   "execution_count": null,
   "metadata": {},
   "outputs": [],
   "source": [
    "import json\n",
    "import pandas as pd \n",
    "import numpy as np"
   ]
  },
  {
   "cell_type": "code",
   "execution_count": null,
   "metadata": {},
   "outputs": [],
   "source": [
    "import os\n",
    "import pandas as pd\n",
    "import re\n",
    "\n",
    "path = '../data/SD_1_Classified_Unmerged_rw'\n",
    "all_data = pd.DataFrame()\n",
    "\n",
    "def parse_filename(filename):\n",
    "    pattern = r\"SD_(\\w+)_\\d+_.*_(\\d+)_([\\w+]+)\"\n",
    "    match = re.match(pattern, filename)\n",
    "    if match:\n",
    "        language = match.group(1) \n",
    "        number = match.group(2)    \n",
    "        chapter = match.group(3)   \n",
    "        return language, number, chapter\n",
    "    return None, None, None\n",
    "\n",
    "for root, _, files in os.walk(path):\n",
    "    for json_file in files:\n",
    "        if json_file.endswith('.json'):\n",
    "            file_path = os.path.join(root, json_file)\n",
    "            try:\n",
    "                data = pd.read_json(file_path)\n",
    "                filename = os.path.splitext(json_file)[0]\n",
    "                language, number, chapter = parse_filename(filename)\n",
    "                data['source_file'] = filename\n",
    "                data['language'] = language\n",
    "                data['number'] = number\n",
    "                data['chapter'] = chapter\n",
    "                all_data = pd.concat([all_data, data], ignore_index=True)\n",
    "            except ValueError as e:\n",
    "                print(f\"Error reading {file_path}: {e}\")"
   ]
  },
  {
   "cell_type": "code",
   "execution_count": null,
   "metadata": {},
   "outputs": [],
   "source": [
    "counts = all_data.groupby(['language', 'source_file']).size().reset_index(name='count')"
   ]
  },
  {
   "cell_type": "code",
   "execution_count": null,
   "metadata": {},
   "outputs": [],
   "source": [
    "from scipy.stats import gaussian_kde\n",
    "import matplotlib.pyplot as plt\n",
    "\n",
    "languages = counts['language'].unique()\n",
    "\n",
    "for language in languages:\n",
    "    lang_counts = counts[counts['language'] == language]['count']\n",
    "    density = gaussian_kde(lang_counts)\n",
    "    x_vals = np.linspace(min(lang_counts), max(lang_counts), 1000)\n",
    "    y_vals = density(x_vals)\n",
    "    plt.plot(x_vals, y_vals, label=language)\n",
    "    \n",
    "plt.title('Density Estimation for Dialogue Counts by Language')\n",
    "plt.xlabel('Count')\n",
    "plt.ylabel('Density')\n",
    "plt.xlim(0, 30)\n",
    "plt.legend(title=\"Language\")\n",
    "plt.grid(axis='y', linestyle='--', alpha=0.7)\n",
    "plt.tight_layout()\n",
    "\n",
    "plt.show()"
   ]
  }
 ],
 "metadata": {
  "kernelspec": {
   "display_name": "strongroom",
   "language": "python",
   "name": "python3"
  },
  "language_info": {
   "codemirror_mode": {
    "name": "ipython",
    "version": 3
   },
   "file_extension": ".py",
   "mimetype": "text/x-python",
   "name": "python",
   "nbconvert_exporter": "python",
   "pygments_lexer": "ipython3",
   "version": "3.10.11"
  }
 },
 "nbformat": 4,
 "nbformat_minor": 2
}
