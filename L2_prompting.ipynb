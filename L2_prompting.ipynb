{
 "cells": [
  {
   "cell_type": "code",
   "execution_count": 1,
   "metadata": {},
   "outputs": [],
   "source": [
    "import openai\n",
    "import pandas as pd\n",
    "import numpy as np\n",
    "import os\n",
    "import json\n",
    "import random"
   ]
  },
  {
   "cell_type": "code",
   "execution_count": 2,
   "metadata": {},
   "outputs": [],
   "source": [
    "os.environ[\"OPENAI_API_KEY\"] = \"your-key\" #can be found in notion "
   ]
  },
  {
   "cell_type": "code",
   "execution_count": 3,
   "metadata": {},
   "outputs": [],
   "source": [
    "openai.organization = \"instuitaution\" \n",
    "openai.api_key = os.environ.get(\"OPENAI_API_KEY\")"
   ]
  },
  {
   "cell_type": "code",
   "execution_count": 4,
   "metadata": {},
   "outputs": [],
   "source": [
    "MODEL = \"gpt-4o\"\n",
    "#can also try other models as well "
   ]
  },
  {
   "cell_type": "code",
   "execution_count": 6,
   "metadata": {},
   "outputs": [],
   "source": [
    "samples = [\n",
    "    \n",
    "    passage \n",
    "\n",
    "    \"\"\"\n",
    "    Yes, I like speaking English.\n",
    "Uh, because English can use all over the world.  You can use it speak to anyone.\n",
    "Uh, in Japan---I just speak English in my English class.\n",
    "Uh, it's about the English book and the topic is in that book.\n",
    "About the school life.\n",
    "Or my hobby.\n",
    "Yes, I want more chance to speak. \n",
    "What, uh, like more, uh, sports.\n",
    "Or games.\n",
    "Yes, I like that.\n",
    "Uh, I watch English movies.\n",
    "Speaking?\n",
    "Yes, it's, uh, uh, mostly is develop my speaking.\n",
    "And at the same time, it can develop my speaking - my listening.\n",
    "Yes.\n",
    "Uh, one-to-one is better. \n",
    "Uh, because it's easy to conversation.  In a group, you don't know when to speak.\n",
    "Its depends on what you want to do.  If you just want do some research, the most important is reading and if you want to live, uh, foreign - live like America, you should, uh, improve your speaking and listening.\n",
    "\n",
    "    \"\"\" \n",
    "    \n",
    "    \"\"\"\n",
    "    \n",
    "Yes, I like speaking in English.\n",
    "What?\n",
    "Yeah, I - you know, I was - I was born in China and I like to - I like watch movie and - in my XXX  school and in high school and in college. \n",
    "So, I want to speak English and I think speaking English will be always very good, you know--- \n",
    "Yeah, you know, I - since I - I went to Japan, I didn't have any much chance to speak English because the Japanese don't speak in English.\n",
    "They don't understand what I'm saying so - a little bit about last time, yeah last time a week.\n",
    "Uh, you know, I was doing part-time job here.  I was working in a hotel.\n",
    "Yeah, yeah.  There was many foreign customers---\n",
    "And when the - the Japanese staff don't speak English so I was good to here to - to solve the problems.\n",
    "Of course, I want to protect English because when - since I went to Japan, I don't have much chance to speak English, so I think my - my English is very big problem here.\n",
    "Yeah, yeah, yeah.  I don't - I don't remember much of the language so, you know, when - when I  trying to say something, I - I have to think for a moment.  You know, when I'm in China I don't have to hesitate.\n",
    "I can speak so directly.\n",
    "For example?\n",
    "For example what type?\n",
    "Yeah, I - yeah that matter I - there was any chance to speak.  You know, I was watching the tape, the DVD .\n",
    "XXX  very cool, there are the many lectures speaking here, and when I was here in, eh, college field, I - I want to say something about some - in college here, about lecture, about something like my - something about what I'm standing.\n",
    "Yeah, I - you know in China we have to do some test here and one, you know, I don't like some tests already - I don't like some tests, but I have to pass the test, so when you are ready for the test, you have to remember many of the XXX  verbs, grammar and listening and writing and frankly, to be honest, I hated this but - but when you ready for that, when you're practicing for that, you - you'll really get directly here, and I like watch - watch movie here - watch more in American and British, anyway.  I want - I want to speak like, talk like what is it there for.  Yeah.\n",
    "Yeah, it doesn't matter.\n",
    "Yeah, I think they are all important but most important is speaking.\n",
    "Because speaking is the most - most, how to say, uh, it's most way to - to communicate with each other.\n",
    "Yeah, when, yeah, you can writing here, but if the people don't have chance to read it, what - what do you write, right?  Speaking with each other and the way is the first way to get your point.\n",
    "    \n",
    "    \"\"\"\n",
    "   \n",
    "]"
   ]
  },
  {
   "cell_type": "code",
   "execution_count": 14,
   "metadata": {},
   "outputs": [],
   "source": [
    "system_instruction = '''\n",
    "You are a linguist expert specializing in doing text annotation in the English second language. You will be tasked with making annoations to a given dialogue texts based on some linguistics aspects to compare grammatical features in machine learning models for cross-lingual tasks.\n",
    "\n",
    "The given text are samples in the dialogue passage from second lanauge speakers of English.  \n",
    "\n",
    "Make sure to keep the annoation format without any change in passage when giving the annotation output.\n",
    "\n",
    "A task may ask for one or multiple annotations. Each annoation should be an object with 3 fields: \n",
    "type: the type of annoation\n",
    "annotation_sentence: the annotated sentence\n",
    "rationale: the reason why you give the annoation \n",
    "\n",
    "Please return a json object which consists of one or multiple modifications.\n",
    "'''"
   ]
  },
  {
   "cell_type": "code",
   "execution_count": 15,
   "metadata": {},
   "outputs": [],
   "source": [
    "def format_prompt(system_instruction, instruction, input):\n",
    "    # print(input)\n",
    "    text = input\n",
    "    # print(text)\n",
    "    # print(label)\n",
    "    message = instruction.format(text = text)\n",
    "    messages = [\n",
    "        {\"role\": \"system\", \"content\": system_instruction},\n",
    "        {\"role\": \"user\", \"content\": message},\n",
    "    ]\n",
    "    return messages"
   ]
  },
  {
   "cell_type": "code",
   "execution_count": 9,
   "metadata": {},
   "outputs": [],
   "source": [
    "def request(samples, prompt_type): # paremeters \n",
    "    for sample in samples:\n",
    "        messages = format_prompt(system_instruction, prompt_type, sample)\n",
    "        response = openai.chat.completions.create(\n",
    "            model=MODEL,\n",
    "            messages= messages,\n",
    "            temperature=0,  \n",
    "        )\n",
    "        ans_model = response.choices[0].message.content\n",
    "        print(sample)\n",
    "        print(ans_model)\n",
    "        print('===================')"
   ]
  },
  {
   "cell_type": "markdown",
   "metadata": {},
   "source": [
    "Alternative requests and helper functions for special cases (geographical information of the dialogues native background) \n"
   ]
  },
  {
   "cell_type": "code",
   "execution_count": 10,
   "metadata": {},
   "outputs": [],
   "source": [
    "regions = ['China', 'Japan', 'Thailand', 'Eastern Europe',\n",
    "           'East Asia', 'South Asia', 'Australia and New Zealand', 'Melanesia, Micronesia, and Polynesia'] \n",
    "# modify based on the native infornation from ICNALE dataset"
   ]
  },
  {
   "cell_type": "code",
   "execution_count": 11,
   "metadata": {},
   "outputs": [],
   "source": [
    "def format_prompt_loc(system_instruction, instruction, input):\n",
    "    # print(input)\n",
    "    text = input\n",
    "    # print(text)\n",
    "    # print(label)\n",
    "    loc = random.sample(regions,1)\n",
    "    message = instruction.format(text = text, loc = loc)\n",
    "    messages = [\n",
    "        {\"role\": \"system\", \"content\": system_instruction},\n",
    "        {\"role\": \"user\", \"content\": message},\n",
    "    ]\n",
    "    return messages"
   ]
  },
  {
   "cell_type": "markdown",
   "metadata": {},
   "source": [
    "### Anaphora and Cataphora"
   ]
  },
  {
   "cell_type": "code",
   "execution_count": 18,
   "metadata": {},
   "outputs": [],
   "source": [
    "referenve_word_instruction = \"\"\"\n",
    "TASK: Read the provided dialogue passage. \n",
    "Find all the sentences with reference word and annotate the all the Reference word in the passage. \n",
    "\n",
    "Example:\n",
    "\n",
    "Passage: \n",
    "Uh, because English can use all over the world.  You can use it speak to anyone.\n",
    "Uh, in Japan---I just speak English in my English class.\n",
    "Uh, it's about the English book and the topic is in that book.\n",
    "About the school life.\n",
    "\n",
    "Sentence: 'Yes, I like speaking English.', 'Uh, in Japan---I just speak English in my English class.', 'Uh, it's about the English book and the topic is in that book.'\n",
    "Annoated Text: 'I','I','it'. \n",
    "\n",
    "\n",
    "{text}\n",
    "\n",
    "\"\"\""
   ]
  },
  {
   "cell_type": "markdown",
   "metadata": {},
   "source": [
    "### Noun & verb collection "
   ]
  },
  {
   "cell_type": "code",
   "execution_count": 20,
   "metadata": {},
   "outputs": [],
   "source": [
    "noun_verb_instruction = \"\"\"\n",
    "TASK: Read the provided dialogue passage. \n",
    "Find the sentence in the passage that have Noun & verb collection and annotate all the Noun & verb collections.\n",
    "\n",
    "Example:\n",
    "\n",
    "Passage: \n",
    "Uh, because English can use all over the world.  You can use it speak to anyone.\n",
    "Uh, in Japan---I just speak English in my English class.\n",
    "Uh, it's about the English book and the topic is in that book.\n",
    "About the school life.\n",
    "\n",
    "Sentence: 'Yes, I like speaking English.', 'Uh, in Japan---I just speak English in my English class.', 'Uh, it's about the English book and the topic is in that book.'\n",
    "Annoated Text: 'speaking English','speak English'. \n",
    "\n",
    "\n",
    "{text}\n",
    "\"\"\" \n"
   ]
  },
  {
   "cell_type": "markdown",
   "metadata": {},
   "source": [
    "### Numbers agreement "
   ]
  },
  {
   "cell_type": "code",
   "execution_count": 22,
   "metadata": {},
   "outputs": [],
   "source": [
    "number_agreement_instruction = \"\"\"\n",
    "TASK: Read the provided dialogue passage. \n",
    "Find the sentence in the passage that have Numbers agreement and annotate all the Numbers agreement.\n",
    "\n",
    "Example:\n",
    "\n",
    "Passage: \n",
    "Uh, because English can use all over the world.  You can use it speak to anyone.\n",
    "Uh, in Japan---I just speak English in my English class.\n",
    "Uh, it's about the English book and the topic is in that book.\n",
    "About the school life.\n",
    "Or my hobby.\n",
    "Yes, I want more chance to speak. \n",
    "What, uh, like more, uh, sports.\n",
    "Or games.\n",
    "Yes, I like that.\n",
    "Uh, I watch English movies.\n",
    "Speaking?\n",
    "Yes, it's, uh, uh, mostly is develop my speaking.\n",
    "And at the same time, it can develop my speaking - my listening.\n",
    "Yes.\n",
    "Uh, one-to-one is better. \n",
    "Uh, because it's easy to conversation.  In a group, you don't know when to speak.\n",
    "Its depends on what you want to do.  If you just want do some research, the most important is reading and if you want to live, uh, foreign - live like America, you should, uh, improve your speaking and listening.\n",
    "\n",
    "\n",
    "Sentence: 'What, uh, like more, uh, sports.','Uh, I watch English movies.'\n",
    "Annoated Text: 'sports','movies'. \n",
    "\n",
    "\n",
    "{text}\n",
    "\"\"\""
   ]
  },
  {
   "cell_type": "markdown",
   "metadata": {},
   "source": [
    "### Tense agreement "
   ]
  },
  {
   "cell_type": "code",
   "execution_count": 24,
   "metadata": {},
   "outputs": [],
   "source": [
    "tense_agreement_instruction = '''\n",
    "TASK: Read the provided dialogue passage. \n",
    "Find the sentence in the passage that have Tense agreement and annotate all the Tense agreement tokens. \n",
    "\n",
    "Example:\n",
    "\n",
    "Passage: \n",
    "Uh, because English can use all over the world.  You can use it speak to anyone.\n",
    "Uh, in Japan---I just speak English in my English class.\n",
    "Uh, it's about the English book and the topic is in that book.\n",
    "About the school life.\n",
    "Or my hobby.\n",
    "Yes, I want more chance to speak. \n",
    "What, uh, like more, uh, sports.\n",
    "Or games.\n",
    "Yes, I like that.\n",
    "Uh, I watch English movies.\n",
    "Speaking?\n",
    "Yes, it's, uh, uh, mostly is develop my speaking.\n",
    "And at the same time, it can develop my speaking - my listening.\n",
    "Yes.\n",
    "Uh, one-to-one is better. \n",
    "Uh, because it's easy to conversation.  In a group, you don't know when to speak.\n",
    "Its depends on what you want to do.  If you just want do some research, the most important is reading and if you want to live, uh, foreign - live like America, you should, uh, improve your speaking and listening.\n",
    "\n",
    "\n",
    "Sentence: 'Uh, I watch English movies.'Yes, it's, uh, uh, mostly is develop my speaking.'\n",
    "Annoated Text: 'watch','is develop my speaking'. \n",
    "\n",
    "\n",
    "{text}\n",
    "\"\"\""
   ]
  },
  {
   "cell_type": "markdown",
   "metadata": {},
   "source": [
    "### Subject-Verb agreement"
   ]
  },
  {
   "cell_type": "code",
   "execution_count": 26,
   "metadata": {},
   "outputs": [],
   "source": [
    "subject_verb_instruction = '''\n",
    "TASK: Read the provided dialogue passage. \n",
    "Find the sentence in the passage that have Subject-Verb agreement and annotate all the Subject-Verb agreement tokens. \n",
    "\n",
    "Example:\n",
    "\n",
    "Passage: \n",
    "Uh, because English can use all over the world.  You can use it speak to anyone.\n",
    "Uh, in Japan---I just speak English in my English class.\n",
    "Uh, it's about the English book and the topic is in that book.\n",
    "About the school life.\n",
    "Or my hobby.\n",
    "Yes, I want more chance to speak. \n",
    "What, uh, like more, uh, sports.\n",
    "Or games.\n",
    "Yes, I like that.\n",
    "Uh, I watch English movies.\n",
    "Speaking?\n",
    "Yes, it's, uh, uh, mostly is develop my speaking.\n",
    "And at the same time, it can develop my speaking - my listening.\n",
    "Yes.\n",
    "Uh, one-to-one is better. \n",
    "Uh, because it's easy to conversation.  In a group, you don't know when to speak.\n",
    "Its depends on what you want to do.  If you just want do some research, the most important is reading and if you want to live, uh, foreign - live like America, you should, uh, improve your speaking and listening.\n",
    "\n",
    "\n",
    "Sentence: 'Uh, I watch English movies.'Yes, it's, uh, uh, mostly is develop my speaking.','In a group, you don't know when to speak.','Its depends on what you want to do. '\n",
    "Annoated Text: 'I watch','is develop my speaking','you don't know ','Its depends'\n",
    "\n",
    "{text}\n",
    "'''"
   ]
  },
  {
   "cell_type": "code",
   "execution_count": null,
   "metadata": {},
   "outputs": [],
   "source": [
    "### Speech Acts\n",
    "\n",
    "speech_acts_instruction = '''\n",
    "TASK: Read the provided dialogue passage. \n",
    "Find the sentence in the passage that have speech acts and annotate all the speech acts tokens. \n",
    "\n",
    "Example:\n",
    "\n",
    "Passage: \n",
    "Uh, because English can use all over the world.  You can use it speak to anyone.\n",
    "Uh, in Japan---I just speak English in my English class.\n",
    "Uh, it's about the English book and the topic is in that book.\n",
    "About the school life.\n",
    "Or my hobby.\n",
    "Yes, I want more chance to speak. \n",
    "What, uh, like more, uh, sports.\n",
    "Or games.\n",
    "Yes, I like that.\n",
    "Uh, I watch English movies.\n",
    "Speaking?\n",
    "Yes, it's, uh, uh, mostly is develop my speaking.\n",
    "And at the same time, it can develop my speaking - my listening.\n",
    "Yes.\n",
    "Uh, one-to-one is better. \n",
    "Uh, because it's easy to conversation.  In a group, you don't know when to speak.\n",
    "Its depends on what you want to do.  If you just want do some research, the most important is reading and if you want to live, uh, foreign - live like America, you should, uh, improve your speaking and listening.\n",
    "\n",
    "\n",
    "Sentence: ' You can use it speak to anyone.'\n",
    "Annoated Text: ' You can use it speak to anyone.'\n",
    "\n",
    "{text}\n",
    "'''"
   ]
  },
  {
   "cell_type": "code",
   "execution_count": null,
   "metadata": {},
   "outputs": [],
   "source": [
    "### Modal Verbs and Expressions\n",
    "\n",
    "modal_verbs_instruction = '''\n",
    "TASK: Read the provided dialogue passage. \n",
    "Find the sentence in the passage that have speech acts and annotate all the model verbs tokens. \n",
    "\n",
    "Example:\n",
    "\n",
    "Passage: \n",
    "Uh, because English can use all over the world.  You can use it speak to anyone.\n",
    "Uh, in Japan---I just speak English in my English class.\n",
    "Uh, it's about the English book and the topic is in that book.\n",
    "About the school life.\n",
    "Or my hobby.\n",
    "Yes, I want more chance to speak. \n",
    "What, uh, like more, uh, sports.\n",
    "Or games.\n",
    "Yes, I like that.\n",
    "Uh, I watch English movies.\n",
    "Speaking?\n",
    "Yes, it's, uh, uh, mostly is develop my speaking.\n",
    "And at the same time, it can develop my speaking - my listening.\n",
    "Yes.\n",
    "Uh, one-to-one is better. \n",
    "Uh, because it's easy to conversation.  In a group, you don't know when to speak.\n",
    "Its depends on what you want to do.  If you just want do some research, the most important is reading and if you want to live, uh, foreign - live like America, you should, uh, improve your speaking and listening.\n",
    "\n",
    "\n",
    "Sentence: ' You can use it speak to anyone.', 'And at the same time, it can develop my speaking - my listening.'\n",
    "Annoated Text: 'can','can'\n",
    "\n",
    "{text}\n",
    "'''\n"
   ]
  },
  {
   "cell_type": "code",
   "execution_count": null,
   "metadata": {},
   "outputs": [],
   "source": [
    "### Quantifiers and Numerals\n",
    "\n",
    "\n",
    "modal_verbs_instruction = '''\n",
    "TASK: Read the provided dialogue passage. \n",
    "Find the sentence in the passage that have Quantifiers and Numerals and annotate all the Quantifiers and Numerals tokens. \n",
    "\n",
    "Example:\n",
    "\n",
    "Passage: \n",
    "Yes, I like speaking in English.\n",
    "What?\n",
    "Yeah, I - you know, I was - I was born in China and I like to - I like watch movie and - in my XXX  school and in high school and in college. \n",
    "So, I want to speak English and I think speaking English will be always very good, you know--- \n",
    "Yeah, you know, I - since I - I went to Japan, I didn't have any much chance to speak English because the Japanese don't speak in English.\n",
    "They don't understand what I'm saying so - a little bit about last time, yeah last time a week.\n",
    "Uh, you know, I was doing part-time job here.  I was working in a hotel.\n",
    "Yeah, yeah.  There was many foreign customers---\n",
    "And when the - the Japanese staff don't speak English so I was good to here to - to solve the problems.\n",
    "Of course, I want to protect English because when - since I went to Japan, I don't have much chance to speak English, so I think my - my English is very big problem here.\n",
    "Yeah, yeah, yeah.  I don't - I don't remember much of the language so, you know, when - when I  trying to say something, I - I have to think for a moment.  You know, when I'm in China I don't have to hesitate.\n",
    "I can speak so directly.\n",
    "For example?\n",
    "For example what type?\n",
    "Yeah, I - yeah that matter I - there was any chance to speak.  You know, I was watching the tape, the DVD .\n",
    "XXX  very cool, there are the many lectures speaking here, and when I was here in, eh, college field, I - I want to say something about some - in college here, about lecture, about something like my - something about what I'm standing.\n",
    "Yeah, I - you know in China we have to do some test here and one, you know, I don't like some tests already - I don't like some tests, but I have to pass the test, so when you are ready for the test, you have to remember many of the XXX  verbs, grammar and listening and writing and frankly, to be honest, I hated this but - but when you ready for that, when you're practicing for that, you - you'll really get directly here, and I like watch - watch movie here - watch more in American and British, anyway.  I want - I want to speak like, talk like what is it there for.  Yeah.\n",
    "Yeah, it doesn't matter.\n",
    "Yeah, I think they are all important but most important is speaking.\n",
    "Because speaking is the most - most, how to say, uh, it's most way to - to communicate with each other.\n",
    "Yeah, when, yeah, you can writing here, but if the people don't have chance to read it, what - what do you write, right?  Speaking with each other and the way is the first way to get your point.\n",
    " \n",
    "Sentence: 'Yeah, you know, I - since I - I went to Japan, I didn't have any much chance to speak English because the Japanese don't speak in English.',\n",
    "'They don't understand what I'm saying so - a little bit about last time, yeah last time a week.',\n",
    "'Yeah, I - yeah that matter I - there was any chance to speak. ',\n",
    "'Yeah, I think they are all important but most important is speaking.'\n",
    "\n",
    "Annotated Text: ‘any much’,'a little bit','any','all','most'\n",
    "\n",
    "{text}\n",
    "'''\n"
   ]
  },
  {
   "cell_type": "code",
   "execution_count": null,
   "metadata": {},
   "outputs": [],
   "source": []
  }
 ],
 "metadata": {
  "kernelspec": {
   "display_name": "Python 3",
   "language": "python",
   "name": "python3"
  },
  "language_info": {
   "codemirror_mode": {
    "name": "ipython",
    "version": 3
   },
   "file_extension": ".py",
   "mimetype": "text/x-python",
   "name": "python",
   "nbconvert_exporter": "python",
   "pygments_lexer": "ipython3",
   "version": "3.7.6"
  },
  "toc": {
   "base_numbering": 1,
   "nav_menu": {},
   "number_sections": true,
   "sideBar": true,
   "skip_h1_title": false,
   "title_cell": "Table of Contents",
   "title_sidebar": "Contents",
   "toc_cell": false,
   "toc_position": {},
   "toc_section_display": true,
   "toc_window_display": false
  },
  "varInspector": {
   "cols": {
    "lenName": 16,
    "lenType": 16,
    "lenVar": 40
   },
   "kernels_config": {
    "python": {
     "delete_cmd_postfix": "",
     "delete_cmd_prefix": "del ",
     "library": "var_list.py",
     "varRefreshCmd": "print(var_dic_list())"
    },
    "r": {
     "delete_cmd_postfix": ") ",
     "delete_cmd_prefix": "rm(",
     "library": "var_list.r",
     "varRefreshCmd": "cat(var_dic_list()) "
    }
   },
   "types_to_exclude": [
    "module",
    "function",
    "builtin_function_or_method",
    "instance",
    "_Feature"
   ],
   "window_display": false
  }
 },
 "nbformat": 4,
 "nbformat_minor": 5
}
